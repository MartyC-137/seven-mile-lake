{
 "cells": [
  {
   "cell_type": "code",
   "execution_count": null,
   "metadata": {
    "vscode": {
     "languageId": "plaintext"
    }
   },
   "outputs": [],
   "source": [
    "# --- Load required libraries ---\n",
    "import rasterio\n",
    "import numpy as np\n",
    "import matplotlib.pyplot as plt\n",
    "import richdem as rd\n",
    "from rasterio.plot import show\n",
    "from scipy.ndimage import gaussian_filter"
   ]
  },
  {
   "cell_type": "code",
   "execution_count": null,
   "metadata": {
    "vscode": {
     "languageId": "plaintext"
    }
   },
   "outputs": [],
   "source": [
    "# --- Load DEM ---\n",
    "dem_path = 'your_dem.tif'  # Replace with your DEM file path\n",
    "dem_raster = rasterio.open(dem_path)\n",
    "dem = dem_raster.read(1)\n",
    "profile = dem_raster.profile\n",
    "\n",
    "# Mask no-data\n",
    "dem = np.where(dem == profile['nodata'], np.nan, dem)\n",
    "\n",
    "plt.figure(figsize=(10, 6))\n",
    "plt.title(\"Digital Elevation Model (DEM)\")\n",
    "plt.imshow(dem, cmap='terrain')\n",
    "plt.colorbar(label='Elevation (m)')\n",
    "plt.axis('off')\n",
    "plt.show()"
   ]
  },
  {
   "cell_type": "code",
   "execution_count": null,
   "metadata": {
    "vscode": {
     "languageId": "plaintext"
    }
   },
   "outputs": [],
   "source": [
    "# --- Calculate Slope ---\n",
    "from richdem.common import RDArray\n",
    "rdem = rd.rdarray(dem, no_data=np.nan)\n",
    "rdem.projection = profile['crs'].to_string()\n",
    "slope = rd.TerrainAttribute(rdem, attrib='slope_degrees')\n",
    "\n",
    "plt.figure(figsize=(10, 6))\n",
    "plt.title(\"Slope (degrees)\")\n",
    "plt.imshow(slope, cmap='magma')\n",
    "plt.colorbar(label='Degrees')\n",
    "plt.axis('off')\n",
    "plt.show()"
   ]
  },
  {
   "cell_type": "code",
   "execution_count": null,
   "metadata": {
    "vscode": {
     "languageId": "plaintext"
    }
   },
   "outputs": [],
   "source": [
    "# --- Calculate TWI (Topographic Wetness Index) ---\n",
    "# TWI = ln(A / tan(β))\n",
    "# A = specific catchment area, β = slope in radians\n",
    "\n",
    "catchment_area = rd.FlowAccumulation(rdem, method='D8')\n",
    "slope_rad = np.radians(slope)\n",
    "twi = np.log((catchment_area + 1) / (np.tan(slope_rad) + 0.001))  # Avoid division by zero\n",
    "\n",
    "plt.figure(figsize=(10, 6))\n",
    "plt.title(\"Topographic Wetness Index (TWI)\")\n",
    "plt.imshow(twi, cmap='Blues')\n",
    "plt.colorbar(label='TWI')\n",
    "plt.axis('off')\n",
    "plt.show()"
   ]
  },
  {
   "cell_type": "code",
   "execution_count": null,
   "metadata": {
    "vscode": {
     "languageId": "plaintext"
    }
   },
   "outputs": [],
   "source": [
    "# --- Relative Elevation Model (REM) ---\n",
    "# Simplified: subtract a smoothed DEM from the original DEM\n",
    "\n",
    "smoothed_dem = gaussian_filter(dem, sigma=30)\n",
    "rem = dem - smoothed_dem\n",
    "\n",
    "plt.figure(figsize=(10, 6))\n",
    "plt.title(\"Relative Elevation Model (REM)\")\n",
    "plt.imshow(rem, cmap='RdBu', vmin=-10, vmax=10)\n",
    "plt.colorbar(label='Relative Elevation (m)')\n",
    "plt.axis('off')\n",
    "plt.show()"
   ]
  },
  {
   "cell_type": "code",
   "execution_count": null,
   "metadata": {
    "vscode": {
     "languageId": "plaintext"
    }
   },
   "outputs": [],
   "source": [
    "# --- Combine Wetness Indicators ---\n",
    "# Normalize and combine TWI, REM, and slope\n",
    "\n",
    "twi_norm = (twi - np.nanmin(twi)) / (np.nanmax(twi) - np.nanmin(twi))\n",
    "rem_norm = (rem - np.nanmin(rem)) / (np.nanmax(rem) - np.nanmin(rem))\n",
    "slope_norm = (slope - np.nanmin(slope)) / (np.nanmax(slope) - np.nanmin(slope))\n",
    "\n",
    "# Weighting: high TWI, low slope, low REM\n",
    "wetness_risk = (twi_norm * 0.5) + ((1 - slope_norm) * 0.25) + ((1 - rem_norm) * 0.25)\n",
    "\n",
    "plt.figure(figsize=(10, 6))\n",
    "plt.title(\"Wetness Risk Map\")\n",
    "plt.imshow(wetness_risk, cmap='cividis')\n",
    "plt.colorbar(label='Wetness Score')\n",
    "plt.axis('off')\n",
    "plt.show()"
   ]
  },
  {
   "cell_type": "code",
   "execution_count": null,
   "metadata": {
    "vscode": {
     "languageId": "plaintext"
    }
   },
   "outputs": [],
   "source": [
    "# --- Load and Rasterize Wetlands Vector Layer ---\n",
    "import geopandas as gpd\n",
    "from rasterio.features import rasterize\n",
    "\n",
    "wetlands_path = 'wetlands.shp'  # Replace with your shapefile path\n",
    "wetlands = gpd.read_file(wetlands_path)\n",
    "wetlands = wetlands.to_crs(profile['crs'])  # Match DEM CRS\n",
    "\n",
    "wetlands_mask = rasterize(\n",
    "    [(geom, 1) for geom in wetlands.geometry],\n",
    "    out_shape=dem.shape,\n",
    "    transform=profile['transform'],\n",
    "    fill=0,\n",
    "    dtype='uint8'\n",
    ")"
   ]
  },
  {
   "cell_type": "code",
   "execution_count": null,
   "metadata": {
    "vscode": {
     "languageId": "plaintext"
    }
   },
   "outputs": [],
   "source": [
    "# --- Combine Wetness Risk Layer with Known Wetlands ---\n",
    "combined_risk = np.maximum(wetness_risk, wetlands_mask)\n",
    "\n",
    "# Save the result\n",
    "from rasterio import Affine\n",
    "\n",
    "output_path = 'combined_wet_risk.tif'\n",
    "profile.update(dtype='uint8', count=1, nodata=0)\n",
    "\n",
    "with rasterio.open(output_path, 'w', **profile) as dst:\n",
    "    dst.write((combined_risk > 0.5).astype('uint8'), 1)  # Threshold can be tuned\n",
    "\n",
    "# Visualize result\n",
    "plt.figure(figsize=(10, 6))\n",
    "plt.imshow(combined_risk, cmap='Purples')\n",
    "plt.title('Combined Wetness Risk + Wetlands')\n",
    "plt.axis('off')\n",
    "plt.colorbar(label='Wet Indicator')\n",
    "plt.show()"
   ]
  }
 ],
 "metadata": {
  "language_info": {
   "name": "python"
  }
 },
 "nbformat": 4,
 "nbformat_minor": 2
}
